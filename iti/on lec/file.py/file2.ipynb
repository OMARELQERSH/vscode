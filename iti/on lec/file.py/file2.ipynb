{
 "cells": [
  {
   "cell_type": "code",
   "execution_count": 49,
   "metadata": {},
   "outputs": [],
   "source": [
    "class Employee:\n",
    "    def __init__(self,name ,age,salary,deparment):\n",
    "        self.name = name\n",
    "        self.age = age\n",
    "        self.salary = salary\n",
    "        self.deparment = deparment\n",
    "    \n",
    "    def display_inf(self):\n",
    "        print(f\"name : {self.name} , age : {self.age} , salary : {self.salary} , deparment : {self.deparment} \")\n",
    "\n",
    "    def to_dic(self):# to send it to json file as DB \n",
    "        return{\n",
    "            \"name\" : self.name ,\n",
    "            \"age\" : self.age ,\n",
    "            \"salary\" : self.salary ,\n",
    "            \"deparment\" : self.deparment \n",
    "        }"
   ]
  },
  {
   "cell_type": "code",
   "execution_count": 37,
   "metadata": {},
   "outputs": [],
   "source": [
    "import json\n"
   ]
  },
  {
   "cell_type": "code",
   "execution_count": 68,
   "metadata": {},
   "outputs": [],
   "source": [
    "class EmpManger:\n",
    "    def __init__(self):\n",
    "        self.employee = []\n",
    "        self.file_path = \"employee.json\"\n",
    "        self.load_from_file() # built in  function\\\n",
    "        \n",
    "\n",
    "    def add_emp(self, name ,age,salary,deparment):\n",
    "        self.employee.append(Employee(name ,age,salary,deparment))\n",
    "        self.save_to_file() # built in function \n",
    "        print(f\"{name} is added\")\n",
    "\n",
    "    def display_all_employee(self):\n",
    "        if not self.employee: # to check if there is data in the list or not --> self.emp ==none\n",
    "            print(\"not data founded\")\n",
    "        else :\n",
    "            for emp in self.employee:\n",
    "                emp.display_inf()\n",
    "\n",
    "    def delete_emp(self , age):\n",
    "        new_emp = []\n",
    "        for emp in self.employee:\n",
    "            if emp.age != age: # puting the non target age in the temp list and the target one not and saving \n",
    "                new_emp.append(emp)\n",
    "        self.employee = new_emp\n",
    "        self.save_to_file()\n",
    "        print(f\"all emp with age {age} is removed\")\n",
    "\n",
    "\n",
    "    def update_salary(self , name , new_salary):#update salary by name\n",
    "        for emp in self.employee:\n",
    "            if emp.name == name:\n",
    "                emp.salary = new_salary\n",
    "                self.save_to_file()\n",
    "                print(f\"{name} his salary is updated by {new_salary}\")\n",
    "                return # to break the loop after updating\n",
    "        print(\"the name is not founded\") # not founded this name --> the effect of above return \n",
    "\n",
    "    def save_to_file(self):\n",
    "        # save employee data to json file\n",
    "        emp_list = []\n",
    "        for emp in self.employee:\n",
    "            emp_list.append(emp.to_dic()) # convert object to dictionary\n",
    "        with open(self.file_path, \"w\") as file:\n",
    "            json.dump(emp_list, file) # write data to file\n",
    "\n",
    "\n",
    "\n",
    "    def load_from_file(self):\n",
    "        try :\n",
    "            with open(self.file_path , mode= \"r\") as fd :\n",
    "                data = json.load(fd)\n",
    "                \n",
    "                for emp in data:\n",
    "                    self.employee.append(Employee(emp[\"name\"],emp[\"age\"],emp[\"salary\"],emp[\"deparment\"]))\n",
    "        except(FileNotFoundError , json.JSONDecodeError):\n",
    "            self.employee = []  # the file not founded \n",
    "\n",
    "        \n",
    "\n"
   ]
  },
  {
   "cell_type": "code",
   "execution_count": 73,
   "metadata": {},
   "outputs": [
    {
     "name": "stdout",
     "output_type": "stream",
     "text": [
      "name : ahmed , age : 24 , salary : 3000.0 , deparment : ai \n"
     ]
    }
   ],
   "source": [
    "m1 = EmpManger()\n",
    "m1.display_all_employee()"
   ]
  },
  {
   "cell_type": "code",
   "execution_count": 69,
   "metadata": {},
   "outputs": [],
   "source": [
    "class FrontEnd:\n",
    "    def __init__(self):\n",
    "        self.manger = EmpManger()\n",
    "\n",
    "    def display_menu(self):\n",
    "            \n",
    "            while True:\n",
    "                 \n",
    "                print(\"\\n\\t\\tEmployee Managment System\\t\\t\")\n",
    "                print(\"1) Add new Employee: \")\n",
    "                print(\"2) Print All Employees: \")\n",
    "                print(\"3) Delete By Age: \")\n",
    "                print(\"4) Update Salary by name\")\n",
    "                print(\"5) End The Program | Exit\")\n",
    "                \n",
    "                choice = int(input(\"Enter your Option: \")) \n",
    "                if choice == 1 :\n",
    "                    name = input(\"Enter Name: \")\n",
    "                    age = int(input(\"Enter Age: \"))\n",
    "                    department = input(\"Enter Dapartment: \")\n",
    "                    salary = float(input(\"Enter Salary: \"))\n",
    "                    self.manger.add_emp(name , age , salary ,department)\n",
    "\n",
    "                elif choice == 2 :\n",
    "                     self.manger.display_all_employee()\n",
    "\n",
    "                elif choice == 3:\n",
    "                    age = int(input(\"Enter Employee Age to Delete: \"))\n",
    "                    self.manger.delete_emp(age)\n",
    "                \n",
    "                \n",
    "                elif choice == 4 :\n",
    "                    name = input(\"Enter Name: \")\n",
    "                    new_salary = float(input(\"Enter New Salary: \"))\n",
    "                    self.manger.update_salary(name,new_salary)\n",
    "                elif choice == 5 :     \n",
    "                    print(\"Exit Program .... \")\n",
    "                    break\n",
    "                else:\n",
    "                    print(\"invalid choice, please try again ...\")\n",
    "                     "
   ]
  },
  {
   "cell_type": "code",
   "execution_count": 72,
   "metadata": {},
   "outputs": [
    {
     "name": "stdout",
     "output_type": "stream",
     "text": [
      "\n",
      "\t\tEmployee Managment System\t\t\n",
      "1) Add new Employee: \n",
      "2) Print All Employees: \n",
      "3) Delete By Age: \n",
      "4) Update Salary by name\n",
      "5) End The Program | Exit\n",
      "all emp with age 26 is removed\n",
      "\n",
      "\t\tEmployee Managment System\t\t\n",
      "1) Add new Employee: \n",
      "2) Print All Employees: \n",
      "3) Delete By Age: \n",
      "4) Update Salary by name\n",
      "5) End The Program | Exit\n",
      "name : ahmed , age : 24 , salary : 3000.0 , deparment : ai \n",
      "\n",
      "\t\tEmployee Managment System\t\t\n",
      "1) Add new Employee: \n",
      "2) Print All Employees: \n",
      "3) Delete By Age: \n",
      "4) Update Salary by name\n",
      "5) End The Program | Exit\n",
      "Exit Program .... \n"
     ]
    }
   ],
   "source": [
    "test = FrontEnd()\n",
    "test.display_menu()"
   ]
  },
  {
   "cell_type": "code",
   "execution_count": null,
   "metadata": {},
   "outputs": [],
   "source": [
    "self.employee.append(Employee(emp[\"name\"],emp[\"age\"],emp[\"salary\"],emp[\"deparment\"]))\n",
    "self.employee.append(Employee(name ,age,salary,deparment))\n"
   ]
  }
 ],
 "metadata": {
  "kernelspec": {
   "display_name": "Python 3",
   "language": "python",
   "name": "python3"
  },
  "language_info": {
   "codemirror_mode": {
    "name": "ipython",
    "version": 3
   },
   "file_extension": ".py",
   "mimetype": "text/x-python",
   "name": "python",
   "nbconvert_exporter": "python",
   "pygments_lexer": "ipython3",
   "version": "3.12.5"
  }
 },
 "nbformat": 4,
 "nbformat_minor": 2
}
