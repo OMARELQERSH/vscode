{
 "cells": [
  {
   "cell_type": "code",
   "execution_count": 1,
   "id": "5d0c76e2-b3f1-4b53-8af0-f84cf6eb6212",
   "metadata": {},
   "outputs": [
    {
     "name": "stdout",
     "output_type": "stream",
     "text": [
      "name : <class 'str'> age :<class 'int'> salary : <class 'float'>\n"
     ]
    }
   ],
   "source": [
    "#qest1\n",
    "\n",
    "name = 'omar'\n",
    "age = 26\n",
    "salary = 26.3 \n",
    "print(f'name : {type(name)} age :{type(age)} salary : {type(salary)}')"
   ]
  },
  {
   "cell_type": "code",
   "execution_count": null,
   "id": "22c71b75-b1c7-4d24-b416-e49229b44499",
   "metadata": {},
   "outputs": [],
   "source": [
    "#qest2\n",
    "\n",
    "name = 'omar'\n",
    "age = 26\n",
    "salary = 26.3 \n"
   ]
  },
  {
   "cell_type": "code",
   "execution_count": 8,
   "id": "408a8caf-5c48-493b-8fd7-869aab5a1c52",
   "metadata": {},
   "outputs": [
    {
     "name": "stdin",
     "output_type": "stream",
     "text": [
      "please enter a numbers 123\n"
     ]
    },
    {
     "name": "stdout",
     "output_type": "stream",
     "text": [
      "3\n"
     ]
    }
   ],
   "source": [
    "#qest 3 \n",
    "user_input = int(input(\"please enter a numbers\"))\n",
    "print(len(str(user_input))) "
   ]
  },
  {
   "cell_type": "code",
   "execution_count": 22,
   "id": "9a58833d-7c68-4b51-b7b8-8d986c44f68e",
   "metadata": {},
   "outputs": [
    {
     "name": "stdin",
     "output_type": "stream",
     "text": [
      "please enter a number 00235\n",
      "please enter a 'k'  2\n"
     ]
    },
    {
     "name": "stdout",
     "output_type": "stream",
     "text": [
      "2\n"
     ]
    }
   ],
   "source": [
    "#qest4\n",
    "number = int(input(\"please enter a number\"))\n",
    "k = int(input(\"please enter a 'k' \"))\n",
    "while k > 0 :\n",
    "    number = number // 10\n",
    "    k -= 1\n",
    "print (number)\n",
    "\n",
    "    \n"
   ]
  },
  {
   "cell_type": "code",
   "execution_count": 34,
   "id": "e151f742-3ce8-4568-90f9-947e9ea1e0b9",
   "metadata": {},
   "outputs": [
    {
     "name": "stdin",
     "output_type": "stream",
     "text": [
      "please enter a numbers with spaces btw them 1 2 3\n"
     ]
    },
    {
     "name": "stdout",
     "output_type": "stream",
     "text": [
      "max is 3 and min is 1\n"
     ]
    }
   ],
   "source": [
    "#qest5\n",
    "result = list(map(int,input(\"please enter a numbers with spaces btw them\").split()))\n",
    "print(f'max is {max(result)} and min is {min(result)}')"
   ]
  },
  {
   "cell_type": "code",
   "execution_count": 23,
   "id": "b3d7e50a-a6d0-4eef-a912-b4d0a0ff474f",
   "metadata": {},
   "outputs": [
    {
     "name": "stdin",
     "output_type": "stream",
     "text": [
      "please enter a number 2587\n",
      "please enter a 'k'  2\n"
     ]
    },
    {
     "data": {
      "text/plain": [
       "25"
      ]
     },
     "execution_count": 23,
     "metadata": {},
     "output_type": "execute_result"
    }
   ],
   "source": [
    "number = int(input(\"please enter a number\"))\n",
    "k = int(input(\"please enter a 'k' \"))\n",
    "result = number // 10 ** k \n",
    "result"
   ]
  },
  {
   "cell_type": "code",
   "execution_count": 28,
   "id": "9ac77dfb-74f0-4c95-801d-22b2dba503de",
   "metadata": {},
   "outputs": [
    {
     "data": {
      "text/plain": [
       "['omar', 'adel', 'elqersh']"
      ]
     },
     "execution_count": 28,
     "metadata": {},
     "output_type": "execute_result"
    }
   ],
   "source": [
    "x = 'omar adel elqersh'\n",
    "x.split()"
   ]
  },
  {
   "cell_type": "code",
   "execution_count": 21,
   "id": "9ddb76c1-7168-46f3-b529-0377fe55500a",
   "metadata": {},
   "outputs": [
    {
     "name": "stdin",
     "output_type": "stream",
     "text": [
      "please enter a number 5\n",
      "please enter a number 7\n"
     ]
    },
    {
     "data": {
      "text/plain": [
       "5"
      ]
     },
     "execution_count": 21,
     "metadata": {},
     "output_type": "execute_result"
    }
   ],
   "source": [
    "#qest 6 \n",
    "a = int(input(\"please enter a number\"))\n",
    "b = int(input(\"please enter a number\"))\n",
    "minn = min(a,b)\n",
    "minn"
   ]
  },
  {
   "cell_type": "code",
   "execution_count": null,
   "id": "8b5d37ea-e405-40c3-9441-b0b807eddbd9",
   "metadata": {},
   "outputs": [],
   "source": [
    "#qest 7\n",
    "\n",
    "salary = int(input(\"please enter your salary \"))\n",
    "if salary < 1000:\n",
    "    print(\"you are poor\")\n",
    "elif salary < 20000:\n",
    "    print(\"good salary\")\n",
    "else :\n",
    "    print(\"you are rich\")"
   ]
  },
  {
   "cell_type": "code",
   "execution_count": 24,
   "id": "09518056-a925-4232-b0f0-bf94ce49ce9f",
   "metadata": {},
   "outputs": [
    {
     "name": "stdin",
     "output_type": "stream",
     "text": [
      "please enter your name omar\n",
      "please enter your age 19\n"
     ]
    },
    {
     "name": "stdout",
     "output_type": "stream",
     "text": [
      "omar your age is 19 and you can drive\n"
     ]
    }
   ],
   "source": [
    "#qest 8\n",
    "user_name = str(input(\"please enter your name\"))\n",
    "user_age = int(input(\"please enter your age\"))\n",
    "if user_age >= 18 :\n",
    "    print(f\"{user_name} your age is {user_age} and you can drive\")\n",
    "else :\n",
    "    print(f\"{user_name} your age is {user_age} and you can not  drive\")"
   ]
  },
  {
   "cell_type": "code",
   "execution_count": null,
   "id": "eaa91cf3-cecc-4470-bf0d-c90546be27af",
   "metadata": {},
   "outputs": [],
   "source": []
  }
 ],
 "metadata": {
  "kernelspec": {
   "display_name": "Python 3 (ipykernel)",
   "language": "python",
   "name": "python3"
  },
  "language_info": {
   "codemirror_mode": {
    "name": "ipython",
    "version": 3
   },
   "file_extension": ".py",
   "mimetype": "text/x-python",
   "name": "python",
   "nbconvert_exporter": "python",
   "pygments_lexer": "ipython3",
   "version": "3.9.19"
  }
 },
 "nbformat": 4,
 "nbformat_minor": 5
}
