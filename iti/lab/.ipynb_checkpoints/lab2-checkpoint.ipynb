{
 "cells": [
  {
   "cell_type": "code",
   "execution_count": 6,
   "id": "7d5e19ab-7f28-46f6-8c24-ea7d0b1e62b1",
   "metadata": {},
   "outputs": [
    {
     "data": {
      "text/plain": [
       "(35, 25)"
      ]
     },
     "execution_count": 6,
     "metadata": {},
     "output_type": "execute_result"
    }
   ],
   "source": [
    "#task 1 \n",
    "\n",
    "total = 10\n",
    "def add_to_total(n):\n",
    "    global total \n",
    "    total = total + n\n",
    "    local_total = n \n",
    "    return total ,local_total\n",
    "    \n",
    "    \n",
    "\n",
    "add_to_total(25)"
   ]
  },
  {
   "cell_type": "code",
   "execution_count": 38,
   "id": "2bafc739-cd90-42b4-9505-9a06439b2078",
   "metadata": {},
   "outputs": [
    {
     "name": "stdout",
     "output_type": "stream",
     "text": [
      "you withdraw 800 and your balance now is 200\n"
     ]
    }
   ],
   "source": [
    "#task 2\n",
    "balance = 1000\n",
    "def withdraw(amount):\n",
    "    global balance\n",
    "    withdraw_value = amount \n",
    "    if amount > balance :\n",
    "        print(f\"your balance is not enough {balance}\")\n",
    "    else :\n",
    "        balance = balance - amount \n",
    "        print (f\"you withdraw {withdraw_value} and your balance now is {balance}\")\n",
    "\n",
    "\n",
    "withdraw(800)\n"
   ]
  },
  {
   "cell_type": "code",
   "execution_count": 39,
   "id": "e2ccb38c-1391-46e7-bdbb-b9467d9fe184",
   "metadata": {},
   "outputs": [
    {
     "name": "stdout",
     "output_type": "stream",
     "text": [
      "the local var is 10\n",
      "the global var is 20\n"
     ]
    }
   ],
   "source": [
    "#task 3 \n",
    "count = 20\n",
    "def modify_global_var():\n",
    "    count = 10 \n",
    "    print(f\"the local var is {count}\")\n",
    "\n",
    "\n",
    "modify_global_var()\n",
    "print(f\"the global var is {count}\")\n",
    "\n",
    "\n",
    "\n",
    "\n",
    "\n",
    "\n",
    "\n"
   ]
  },
  {
   "cell_type": "code",
   "execution_count": 40,
   "id": "bba0224a-f37e-42ea-96db-0e248964badf",
   "metadata": {},
   "outputs": [
    {
     "name": "stdout",
     "output_type": "stream",
     "text": [
      "index is 0 , value in the list is 0\n",
      "index is 1 , value in the list is 111\n",
      "index is 2 , value in the list is 222\n",
      "index is 3 , value in the list is 333\n",
      "index is 4 , value in the list is 4444\n"
     ]
    }
   ],
   "source": [
    "#task 4\n",
    "lst = [000,111,222,333,4444]\n",
    "for i , j in enumerate(lst):\n",
    "    print (f\"index is { i } , value in the list is {j}\")\n",
    "\n",
    "\n",
    "\n",
    "\n"
   ]
  },
  {
   "cell_type": "code",
   "execution_count": 41,
   "id": "74559e59-d7dd-4127-81b9-97caa152ac9e",
   "metadata": {},
   "outputs": [
    {
     "name": "stdout",
     "output_type": "stream",
     "text": [
      "index is 1 , value in the list is 0\n",
      "index is 2 , value in the list is 111\n",
      "index is 3 , value in the list is 222\n",
      "index is 4 , value in the list is 333\n",
      "index is 5 , value in the list is 4444\n"
     ]
    }
   ],
   "source": [
    "#task 5 \n",
    "lst = [000,111,222,333,4444]\n",
    "for i , j in enumerate(lst , start = 1):\n",
    "    print (f\"index is { i  } , value in the list is {j}\")\n"
   ]
  },
  {
   "cell_type": "code",
   "execution_count": 42,
   "id": "616ebc28-bf7f-4f4b-b24c-0e0f53f9c2e5",
   "metadata": {},
   "outputs": [
    {
     "name": "stdout",
     "output_type": "stream",
     "text": [
      "index is 1 , value in the list is 0\n",
      "index is 2 , value in the list is 111\n",
      "index is 3 , value in the list is 222\n",
      "index is 4 , value in the list is 333\n",
      "index is 5 , value in the list is 4444\n"
     ]
    }
   ],
   "source": [
    "#task 5 \n",
    "lst = [000,111,222,333,4444]\n",
    "for i , j in enumerate(lst ):\n",
    "    print (f\"index is { i + 1 } , value in the list is {j}\")\n"
   ]
  },
  {
   "cell_type": "code",
   "execution_count": 43,
   "id": "db313769-b3dc-4b47-96ea-5b40697e737e",
   "metadata": {},
   "outputs": [
    {
     "data": {
      "text/plain": [
       "[4, 9, 16, 25]"
      ]
     },
     "execution_count": 43,
     "metadata": {},
     "output_type": "execute_result"
    }
   ],
   "source": [
    "#task 6 \n",
    "\n",
    "result = list(map(lambda arg : arg ** 2 , [2,3,4,5]))\n",
    "result\n"
   ]
  },
  {
   "cell_type": "code",
   "execution_count": 44,
   "id": "d06df156-1aed-4b49-813a-4cdaff67fe52",
   "metadata": {},
   "outputs": [
    {
     "data": {
      "text/plain": [
       "[2, 4, 6]"
      ]
     },
     "execution_count": 44,
     "metadata": {},
     "output_type": "execute_result"
    }
   ],
   "source": [
    "# task 7\n",
    "result = list(filter(lambda arg : arg % 2 == 0 , [1, 2, 3, 4, 5, 6] ))\n",
    "result"
   ]
  },
  {
   "cell_type": "code",
   "execution_count": 45,
   "id": "ee529d82-e7df-45e5-ac5d-2fac124e9e2e",
   "metadata": {},
   "outputs": [
    {
     "data": {
      "text/plain": [
       "' leda ramo'"
      ]
     },
     "execution_count": 45,
     "metadata": {},
     "output_type": "execute_result"
    }
   ],
   "source": [
    "#task 8\n",
    "\n",
    "string = 'omar adel '\n",
    "rev = lambda arg : arg[::-1]\n",
    "rev(string)\n",
    "\n",
    "\n"
   ]
  },
  {
   "cell_type": "code",
   "execution_count": 46,
   "id": "54d2034f-586b-49d3-bbf2-8d3a75c144f1",
   "metadata": {},
   "outputs": [
    {
     "name": "stdout",
     "output_type": "stream",
     "text": [
      "my name is omar and my age is 26 and my salary is 2000\n"
     ]
    }
   ],
   "source": [
    "#task 9 \n",
    "\n",
    "class Student:\n",
    "    def __init__(self , name , age ,salary):\n",
    "        #attriubtes\n",
    "        self.nam = name\n",
    "        self.ag = age \n",
    "        self.sala = salary\n",
    "\n",
    "\n",
    "st1 = Student(\"omar\",26 , 2000)\n",
    "print(f\"my name is {st1.nam} and my age is {st1.ag} and my salary is {st1.sala}\")"
   ]
  },
  {
   "cell_type": "code",
   "execution_count": 47,
   "id": "e6411695-a778-453c-afa3-e5e7702b88fa",
   "metadata": {},
   "outputs": [
    {
     "name": "stdout",
     "output_type": "stream",
     "text": [
      "my name is omaradel and my age is 26 and my salary is 3000\n"
     ]
    }
   ],
   "source": [
    "#task 10\n",
    "class Student:\n",
    "    def __init__(self , name , age ,salary):\n",
    "        #attriubtes\n",
    "        self.nam = name\n",
    "        self.ag = age \n",
    "        self.sala = salary\n",
    "    def get_detials(self):\n",
    "        print(f\"my name is {self.nam} and my age is {self.ag} and my salary is {self.sala}\")\n",
    "\n",
    "st2 = Student(\"omaradel\" , 26 , 3000)\n",
    "st2.get_detials()\n"
   ]
  },
  {
   "cell_type": "code",
   "execution_count": null,
   "id": "8270f7d8-5770-4060-885d-1f41ad770633",
   "metadata": {},
   "outputs": [],
   "source": []
  }
 ],
 "metadata": {
  "kernelspec": {
   "display_name": "Python 3 (ipykernel)",
   "language": "python",
   "name": "python3"
  },
  "language_info": {
   "codemirror_mode": {
    "name": "ipython",
    "version": 3
   },
   "file_extension": ".py",
   "mimetype": "text/x-python",
   "name": "python",
   "nbconvert_exporter": "python",
   "pygments_lexer": "ipython3",
   "version": "3.9.19"
  }
 },
 "nbformat": 4,
 "nbformat_minor": 5
}
