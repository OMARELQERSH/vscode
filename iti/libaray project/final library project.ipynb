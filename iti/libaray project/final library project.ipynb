{
 "cells": [
  {
   "cell_type": "code",
   "execution_count": 40,
   "id": "f838f954-c303-4075-b687-6e4eb4d3484a",
   "metadata": {},
   "outputs": [],
   "source": [
    "class Harry:\n",
    "    def __init__(self, name_of_library,book_list ):\n",
    "        self.book_list = book_list\n",
    "        self.name_of_library = name_of_library\n",
    "        self.lended_books = {}\n",
    "           \n",
    "    def display_books(self):\n",
    "        for i in range(len(self.book_list)):\n",
    "            print(f\"{i+1} - {self.book_list[i]}\")\n",
    "            \n",
    "    def adding_books(self,book_name):\n",
    "        if book_name in self.book_list:\n",
    "            print(\"the book is already entered\")\n",
    "        else :\n",
    "            self.book_list.append(book_name)\n",
    "            print(f\"{book_name} is added sucufly\")\n",
    "    def book_lending(self , user_name, book_name):\n",
    "        if book_name in self.book_list:\n",
    "            self.book_list.remove(book_name)\n",
    "            if user_name in self.lended_books:\n",
    "                self.lended_books[user_name].append(book_name)\n",
    "                print(f\"{user_name} borow {book_name} ...enjoy it\")\n",
    "            else:\n",
    "                self.lended_books[user_name] = [book_name]\n",
    "                print(f\"{user_name} borow {book_name} ...enjoy it\")\n",
    "        else :\n",
    "            print(f\"{book_name} not avialble now\")\n",
    "       \n",
    "    def return_books(self , user_name , book_name):\n",
    "        if user_name in self.lended_books.keys():\n",
    "            for k,v in self.lended_books.items():\n",
    "                if k == user_name :\n",
    "                    if book_name in v:\n",
    "                        v.remove(book_name)\n",
    "                        self.book_list.append(book_name)\n",
    "                        print(f\"{user_name} return the book {book_name}suceefly\")\n",
    "                    else :\n",
    "                        print(f\"{user_name} didnt borow this book for our library \")\n",
    "                else:\n",
    "                    continue\n",
    "        else:\n",
    "            print(f\"{user_name} didnt take any books from the libaray\")"
   ]
  },
  {
   "cell_type": "code",
   "execution_count": 42,
   "id": "cab80c96-f6b6-4c3e-ba8e-ce0ae5ccc94f",
   "metadata": {},
   "outputs": [],
   "source": [
    "h2 = Harry(\"CodeWithHarry\",['Python', 'Rich Daddy Poor Daddy', 'Harry Potter', 'C++ Basics', 'Algorithms by CLRS'])"
   ]
  },
  {
   "cell_type": "code",
   "execution_count": 32,
   "id": "4e0c9cd4-5b8f-407e-89db-a9a40457cb07",
   "metadata": {},
   "outputs": [
    {
     "name": "stdout",
     "output_type": "stream",
     "text": [
      "welcom to CodeWithHarry\n",
      "- display book enter (1)\n",
      "-Lend a Book enter (2)\n",
      "-Add a Book enter (3)\n",
      "-Return a Book enter (4)\n"
     ]
    },
    {
     "name": "stdin",
     "output_type": "stream",
     "text": [
      "plz enter the number  mentend above h\n"
     ]
    },
    {
     "name": "stdout",
     "output_type": "stream",
     "text": [
      "please enter a number\n",
      "- display book enter (1)\n",
      "-Lend a Book enter (2)\n",
      "-Add a Book enter (3)\n",
      "-Return a Book enter (4)\n"
     ]
    },
    {
     "name": "stdin",
     "output_type": "stream",
     "text": [
      "plz enter the number  mentend above 1\n"
     ]
    },
    {
     "name": "stdout",
     "output_type": "stream",
     "text": [
      "-----------------------------------\n",
      "1 - Rich Daddy Poor Daddy\n",
      "2 - Harry Potter\n",
      "3 - Algorithms by CLRS\n",
      "4 - cs50\n"
     ]
    },
    {
     "name": "stdin",
     "output_type": "stream",
     "text": [
      "if you want to contiue enter (y) y\n"
     ]
    },
    {
     "name": "stdout",
     "output_type": "stream",
     "text": [
      "- display book enter (1)\n",
      "-Lend a Book enter (2)\n",
      "-Add a Book enter (3)\n",
      "-Return a Book enter (4)\n"
     ]
    },
    {
     "name": "stdin",
     "output_type": "stream",
     "text": [
      "plz enter the number  mentend above n\n"
     ]
    },
    {
     "name": "stdout",
     "output_type": "stream",
     "text": [
      "please enter a number\n",
      "- display book enter (1)\n",
      "-Lend a Book enter (2)\n",
      "-Add a Book enter (3)\n",
      "-Return a Book enter (4)\n"
     ]
    },
    {
     "name": "stdin",
     "output_type": "stream",
     "text": [
      "plz enter the number  mentend above 1\n"
     ]
    },
    {
     "name": "stdout",
     "output_type": "stream",
     "text": [
      "-----------------------------------\n",
      "1 - Rich Daddy Poor Daddy\n",
      "2 - Harry Potter\n",
      "3 - Algorithms by CLRS\n",
      "4 - cs50\n"
     ]
    },
    {
     "name": "stdin",
     "output_type": "stream",
     "text": [
      "if you want to contiue enter (y) y\n"
     ]
    },
    {
     "name": "stdout",
     "output_type": "stream",
     "text": [
      "- display book enter (1)\n",
      "-Lend a Book enter (2)\n",
      "-Add a Book enter (3)\n",
      "-Return a Book enter (4)\n"
     ]
    },
    {
     "name": "stdin",
     "output_type": "stream",
     "text": [
      "plz enter the number  mentend above 1\n"
     ]
    },
    {
     "name": "stdout",
     "output_type": "stream",
     "text": [
      "-----------------------------------\n",
      "1 - Rich Daddy Poor Daddy\n",
      "2 - Harry Potter\n",
      "3 - Algorithms by CLRS\n",
      "4 - cs50\n"
     ]
    },
    {
     "name": "stdin",
     "output_type": "stream",
     "text": [
      "if you want to contiue enter (y) n\n"
     ]
    }
   ],
   "source": [
    "print(f\"welcom to {h2.name_of_library}\")\n",
    "exit = 'y'\n",
    "while exit.lower() == \"y\":\n",
    "    print(\"- display book enter (1)\\n-Lend a Book enter (2)\\n-Add a Book enter (3)\\n-Return a Book enter (4)\")\n",
    "    try:\n",
    "        user_enter = int(input(\"plz enter the number  mentend above\"))\n",
    "    except:\n",
    "        print(\"please enter a number\")\n",
    "    else:\n",
    "        print(\"-\"*35)\n",
    "        if user_enter == 1 :\n",
    "            h2.display_books()\n",
    "           \n",
    "        elif user_enter == 2 :\n",
    "            user_name = input(\"plz enter your name\")\n",
    "            book_name = input(\"plz enter your name\")\n",
    "            h2.book_lending(user_name , book_name)\n",
    "            \n",
    "        elif user_enter == 3 :\n",
    "            book_name = input(\"plz enter book name\")\n",
    "            h2.adding_books(book_name)\n",
    "            \n",
    "        elif user_enter == 4 :\n",
    "            user_name = input(\"plz enter your name\")\n",
    "            book_name = input(\"plz enter your name\")\n",
    "            h2.return_books(user_name ,book_name)\n",
    "           \n",
    "        else :\n",
    "            print(\"choose from above\")\n",
    "            \n",
    "        exit = input(\"if you want to contiue enter (y)\")"
   ]
  },
  {
   "cell_type": "code",
   "execution_count": null,
   "id": "c902aaa2-d529-4646-821b-b506ccaff1bc",
   "metadata": {},
   "outputs": [],
   "source": []
  },
  {
   "cell_type": "code",
   "execution_count": null,
   "id": "a20ab7f8-62bf-469b-a308-116f5b049edf",
   "metadata": {},
   "outputs": [],
   "source": []
  }
 ],
 "metadata": {
  "kernelspec": {
   "display_name": "Python 3 (ipykernel)",
   "language": "python",
   "name": "python3"
  },
  "language_info": {
   "codemirror_mode": {
    "name": "ipython",
    "version": 3
   },
   "file_extension": ".py",
   "mimetype": "text/x-python",
   "name": "python",
   "nbconvert_exporter": "python",
   "pygments_lexer": "ipython3",
   "version": "3.11.4"
  }
 },
 "nbformat": 4,
 "nbformat_minor": 5
}
